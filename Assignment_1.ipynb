{
 "cells": [
  {
   "cell_type": "markdown",
   "metadata": {},
   "source": [
    "Question 1: In the below elements which of them are values or an expression? eg:- values can be\n",
    "integer or string and expressions will be mathematical operators.\n",
    "\n",
    "* = Expression\n",
    "'hello' = Value\n",
    "-87.8 = Value\n",
    "- = Expression\n",
    "/ = Expression\n",
    "+ = Expression\n",
    "6 = Value"
   ]
  },
  {
   "cell_type": "markdown",
   "metadata": {},
   "source": [
    "Question 2: What is the difference between string and variable?\n",
    "\n",
    "String is a data type which is used to store a sequence of characters. A variable is a name given to a memory location which is used to store data."
   ]
  },
  {
   "cell_type": "markdown",
   "metadata": {},
   "source": [
    "Question 3: Describe three different data types.\n",
    "\n",
    "Integer: It is a data type which is used to store whole numbers. It is represented by int."
   ]
  },
  {
   "cell_type": "markdown",
   "metadata": {},
   "source": [
    "Question 4: What is an expression made up of? What do all expressions do?\n",
    "\n",
    "An expression is a combination of values, variables, operators and calls to functions. All expressions evaluate down to a single value. "
   ]
  },
  {
   "cell_type": "markdown",
   "metadata": {},
   "source": [
    "Question 5: This assignment statements, like spam = 10. What is the difference between an\n",
    "expression and a statement?\n",
    "\n",
    "An expression evaluates to a single value. A statement does not. An assignment statement is an example of a statement."
   ]
  },
  {
   "cell_type": "markdown",
   "metadata": {},
   "source": [
    "Question 6: After running the following code, what does the variable bacon contain?\n",
    "bacon = 22\n",
    "bacon + 1\n",
    "\n",
    "After running the following code, we get the result: 23. The variable bacon contains the value 23."
   ]
  },
  {
   "cell_type": "markdown",
   "metadata": {},
   "source": [
    "Question 7: What should the values of the following two terms be?\n",
    "'spam' + 'spamspam'\n",
    "'spam' * 3\n",
    "\n",
    "The value of the first term is ```spamspamspam```. The value of the second term is ```spamspamspam```."
   ]
  },
  {
   "cell_type": "markdown",
   "metadata": {},
   "source": [
    "Question 8: Why is it that eggs is a true variable name but 100 is not?\n",
    "\n",
    "As per the rules of writing a variable, we cannot start a variable name with a number. Hence, 100 is not a variable name."
   ]
  },
  {
   "cell_type": "markdown",
   "metadata": {},
   "source": [
    "Question 9: What three functions can be used to get the integer, floating-point number, or string version of a value?\n",
    "\n",
    "The function that can be used to get the integer - `int()`\n",
    "The function that can be used to get the floating point number - `float()`\n",
    "The function that can be used to get the string - `str()`"
   ]
  },
  {
   "cell_type": "markdown",
   "metadata": {},
   "source": [
    "Question 10: Why does this expression cause an error? How can you fix it? 'I have eaten ' + 99 + ' burritos.'\n",
    "\n",
    "The above expression causes an error because we cannot concatenate a string with an integer. We can fix it by converting the integer to a string using the str() function.\n",
    "\n",
    "```python\n",
    "print('I have eaten ' + str(99) + ' burritos.')\n",
    "```"
   ]
  }
 ],
 "metadata": {
  "kernelspec": {
   "display_name": "Python 3.10.7 64-bit",
   "language": "python",
   "name": "python3"
  },
  "language_info": {
   "codemirror_mode": {
    "name": "ipython",
    "version": 3
   },
   "file_extension": ".py",
   "mimetype": "text/x-python",
   "name": "python",
   "nbconvert_exporter": "python",
   "pygments_lexer": "ipython3",
   "version": "3.10.7"
  },
  "orig_nbformat": 4,
  "vscode": {
   "interpreter": {
    "hash": "e7370f93d1d0cde622a1f8e1c04877d8463912d04d973331ad4851f04de6915a"
   }
  }
 },
 "nbformat": 4,
 "nbformat_minor": 2
}
