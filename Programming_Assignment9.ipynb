{
 "cells": [
  {
   "cell_type": "markdown",
   "metadata": {},
   "source": [
    "1. Write a Python program to check if the given number is a disarium number\n",
    "\n",
    "Answer: A number is a disarium number if the sum of its digits powered with their respective positions is equal to the number itself."
   ]
  },
  {
   "cell_type": "code",
   "execution_count": 44,
   "metadata": {},
   "outputs": [],
   "source": [
    "# This is the driver code. \n",
    "def is_Disarium(n):\n",
    "    sum = 0\n",
    "    temp = n\n",
    "    while temp > 0:\n",
    "        digit = temp%10\n",
    "        sum += digit**len(str(temp))\n",
    "        temp = temp//10\n",
    "\n",
    "    if sum == n:\n",
    "        return True\n",
    "    else:\n",
    "        return False\n"
   ]
  },
  {
   "cell_type": "code",
   "execution_count": 45,
   "metadata": {},
   "outputs": [
    {
     "name": "stdout",
     "output_type": "stream",
     "text": [
      "Not a Disarium Number\n"
     ]
    }
   ],
   "source": [
    "# runner code\n",
    "n = int(input(\"Enter a number to check Disarium Number: \"))\n",
    "\n",
    "if is_Disarium(n):\n",
    "    print(\"Disarium Number\")\n",
    "else:\n",
    "    print(\"Not a Disarium Number\")"
   ]
  },
  {
   "cell_type": "markdown",
   "metadata": {},
   "source": [
    "Question 2: Write a Python program to print all disarium numbers between 1 to 100?\n",
    "\n",
    "Answer: We will use the fucntion we already created above to print all numbers from 1 to 100"
   ]
  },
  {
   "cell_type": "code",
   "execution_count": 46,
   "metadata": {},
   "outputs": [
    {
     "name": "stdout",
     "output_type": "stream",
     "text": [
      "Disarium numbers between 1 and 100 are:\n",
      "1  \n",
      "2  \n",
      "3  \n",
      "4  \n",
      "5  \n",
      "6  \n",
      "7  \n",
      "8  \n",
      "9  \n",
      "89  \n"
     ]
    }
   ],
   "source": [
    "start = 1\n",
    "end = 100\n",
    "\n",
    "print(\"Disarium numbers between\", start, \"and\", end, \"are:\")\n",
    "\n",
    "for n in range(start, end + 1):\n",
    "    if is_Disarium(n):\n",
    "        print(n, \" \")"
   ]
  },
  {
   "cell_type": "markdown",
   "metadata": {},
   "source": [
    "Question 3: Write a Python program to check if the given number is Happy Number?\n",
    "\n",
    "Answer: A number is happy number if the sum of squares of digits of the number results in 1. If the sum of squares of digits of the number results in any other number, then we repeat the process until the number becomes 1. If the number becomes 1, then the number is a happy number. If the number does not become 1, then the number is not a happy number.\n",
    "\n",
    "The code for checking Happy number is as follows:"
   ]
  },
  {
   "cell_type": "code",
   "execution_count": 47,
   "metadata": {},
   "outputs": [],
   "source": [
    "# driver code for Happy number\n",
    "\n",
    "def is_Happy(n):\n",
    "\n",
    "    def sumsquare(n):\n",
    "\n",
    "        temp = n # temp variable to hold n\n",
    "        sum = 0 # variable to hold sum\n",
    "        while temp > 0:\n",
    "            digit = temp % 10 \n",
    "            sum += digit ** 2\n",
    "            temp = temp // 10\n",
    "        return sum  \n",
    "\n",
    "    # we will be introducing a HashSet, which will check if the number is not looping \n",
    "    # by matching with contents\n",
    "    traversed = set() # set constructor\n",
    "    i = sumsquare(n)\n",
    "    while i != 1 and i not in traversed:\n",
    "        traversed.add(i)\n",
    "        i = sumsquare(i)\n",
    "    # check if i is 1\n",
    "    if i == 1:\n",
    "        return True\n",
    "    else:\n",
    "        return False "
   ]
  },
  {
   "cell_type": "code",
   "execution_count": 48,
   "metadata": {},
   "outputs": [
    {
     "name": "stdout",
     "output_type": "stream",
     "text": [
      "7  is Happy Number\n"
     ]
    }
   ],
   "source": [
    "# runner code for Happy Number\n",
    "\n",
    "number = int(input(\"Enter the number you want to check if it is a Happy Number or not: \"))\n",
    "\n",
    "if is_Happy(number):\n",
    "    print(number, \" is Happy Number\")\n",
    "else:\n",
    "    print(number, \" is not a Happy Number\")"
   ]
  },
  {
   "cell_type": "markdown",
   "metadata": {},
   "source": [
    "Question 4: Write a Python program to print all happy numbers between 1 and 100?\n",
    "\n",
    "Answer: We will use the function we already created above to print all numbers from 1 to 100"
   ]
  },
  {
   "cell_type": "code",
   "execution_count": 49,
   "metadata": {},
   "outputs": [
    {
     "name": "stdout",
     "output_type": "stream",
     "text": [
      "1  \n",
      "7  \n",
      "10  \n",
      "13  \n",
      "19  \n",
      "23  \n",
      "28  \n",
      "31  \n",
      "32  \n",
      "44  \n",
      "49  \n",
      "68  \n",
      "70  \n",
      "79  \n",
      "82  \n",
      "86  \n",
      "91  \n",
      "94  \n",
      "97  \n",
      "100  \n"
     ]
    }
   ],
   "source": [
    "# code to find Happy numbers from 1 to 100\n",
    "\n",
    "start = 1\n",
    "end = 100\n",
    "\n",
    "for i in range(start, end + 1):\n",
    "    if is_Happy(i):\n",
    "        print(i, \" \")"
   ]
  },
  {
   "cell_type": "markdown",
   "metadata": {},
   "source": [
    "Question 5: Write a Python program to determine whether the given number is a Harshad Number?\n",
    "\n",
    "Answer: A number is said to be Harshad number if it is exactly divisible by the sum of its digits. For example, 156 is divisible by 12 (1+5+6), so it is a Harshad number.\n",
    "\n",
    "A following code to check HArshad number is as follows:"
   ]
  },
  {
   "cell_type": "code",
   "execution_count": 62,
   "metadata": {},
   "outputs": [],
   "source": [
    "# driver code for Harshad number\n",
    "\n",
    "def is_Harshad(n):\n",
    "    \n",
    "    # calculate the sum of digits\n",
    "    def sumdigits(n):\n",
    "        temp = n\n",
    "        sum = 0\n",
    "        while temp > 0:\n",
    "            rem = temp % 10\n",
    "            sum += rem\n",
    "            temp = temp // 10\n",
    "        return sum\n",
    "    \n",
    "    if n % sumdigits(n) == 0:\n",
    "        return True\n",
    "    else:\n",
    "        return False\n",
    "        "
   ]
  },
  {
   "cell_type": "code",
   "execution_count": 64,
   "metadata": {},
   "outputs": [
    {
     "name": "stdout",
     "output_type": "stream",
     "text": [
      "15  is not Harshad Number\n"
     ]
    }
   ],
   "source": [
    "# runner code for Harshad Number\n",
    "\n",
    "number = int(input(\"Enter the number to check Harshad Number: \"))\n",
    "\n",
    "if is_Harshad(number) : print(number, \" is Harshad number\")\n",
    "else: print(number, \" is not Harshad Number\")"
   ]
  },
  {
   "cell_type": "markdown",
   "metadata": {},
   "source": [
    "Question 6: Write a Python program to print all pronic numbers between 1 and 100?\n",
    "\n",
    "Answer: Pronic number is a number which is the product of two consective integers, i.e., a number is a product of x and (x+1). "
   ]
  },
  {
   "cell_type": "code",
   "execution_count": 72,
   "metadata": {},
   "outputs": [],
   "source": [
    "# driver code to check pronic number\n",
    "import math\n",
    "def is_Pronic(x):\n",
    "\n",
    "    i = 0\n",
    "    while ( i <= math.sqrt(x)):\n",
    "        if ( x == (i * (i + 1))): \n",
    "            return True\n",
    "        i += 1\n",
    "    return False"
   ]
  },
  {
   "cell_type": "code",
   "execution_count": 75,
   "metadata": {},
   "outputs": [
    {
     "name": "stdout",
     "output_type": "stream",
     "text": [
      "2\n",
      "6\n",
      "12\n",
      "20\n",
      "30\n",
      "42\n",
      "56\n",
      "72\n",
      "90\n"
     ]
    }
   ],
   "source": [
    "# runner code to check Pronic numbers from 1 to 100\n",
    "start = 1\n",
    "end = 100\n",
    "\n",
    "for i in range(start, end + 1):\n",
    "    if is_Pronic(i): print(i)"
   ]
  }
 ],
 "metadata": {
  "kernelspec": {
   "display_name": "Python 3.10.8 64-bit",
   "language": "python",
   "name": "python3"
  },
  "language_info": {
   "codemirror_mode": {
    "name": "ipython",
    "version": 3
   },
   "file_extension": ".py",
   "mimetype": "text/x-python",
   "name": "python",
   "nbconvert_exporter": "python",
   "pygments_lexer": "ipython3",
   "version": "3.10.8"
  },
  "orig_nbformat": 4,
  "vscode": {
   "interpreter": {
    "hash": "e7370f93d1d0cde622a1f8e1c04877d8463912d04d973331ad4851f04de6915a"
   }
  }
 },
 "nbformat": 4,
 "nbformat_minor": 2
}
