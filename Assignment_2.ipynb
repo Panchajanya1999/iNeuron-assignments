{
 "cells": [
  {
   "cell_type": "markdown",
   "metadata": {},
   "source": [
    "Question 1: What are the two values of the Boolean data type? How do you write them?\n",
    "\n",
    "ANswer: The twovalues of the Boolean data type are True and False. They are written as True and False with the first letter capitalized.\n",
    "\n",
    "Example : a = True\n",
    "          b = False"
   ]
  },
  {
   "cell_type": "markdown",
   "metadata": {},
   "source": [
    "Question 2: What are the three different types of Boolean operators?\n",
    "\n",
    "Answer: The three different types of boolean operators are:\n",
    "1) AND\n",
    "2) OR\n",
    "3) NOT  "
   ]
  },
  {
   "cell_type": "markdown",
   "metadata": {},
   "source": [
    "Question 3: Make a list of each Boolean operator's truth tables (i.e. every possible combination of Boolean values for the operator and what it evaluate ).\n",
    "\n",
    "Answer: The truth table for the AND operator is as follows:\n",
    "1) True AND True = True\n",
    "2) True AND False = False\n",
    "3) False AND True = False\n",
    "4) False AND False = False\n",
    "\n",
    "The truth table for the OR operator is as follows:\n",
    "1) True OR True = True\n",
    "2) True OR False = True\n",
    "3) False OR True = True\n",
    "4) False OR False = False\n",
    "\n",
    "The truth table for the NOT operator is as follows:\n",
    "1) True NOT = False\n",
    "2) False NOT = True\n",
    "                                                                "
   ]
  },
  {
   "cell_type": "markdown",
   "metadata": {},
   "source": [
    "Question 4: What are the values of the following expressions?\n",
    "\n",
    "Answwer:\n",
    "- ( 5 > 4 ) and ( 3 == 5 ) = False\n",
    "- not ( 5 > 4 ) = False\n",
    "- ( 5 > 4 ) or ( 3 == 5 ) = True\n",
    "- not ((5 > 4) or (3 == 5)) = False\n",
    "- (True and True) and (True == False) = False\n",
    "- (not False) or (not True) = True"
   ]
  },
  {
   "cell_type": "markdown",
   "metadata": {},
   "source": [
    "Question 5: What are the six comparison operators?\n",
    "\n",
    "Answer: The six comparison operators are - \n",
    "1) \"Equals to\", represented by \"==\"\n",
    "2) \"Greater than\", represented by \"x greater than y\" by \" x > y \"\n",
    "3) \"Lesser than\", represented by \"x lesser than y\" by \" x < y \"\n",
    "4) \"Greater than or equal to\", represented by \"x greater than or equal to y\" by \" x >= y \"\n",
    "5) \"Lesser than or equal to\", represented by \"x lesser than or equal to y\" by \" x <= y \"\n",
    "6) \"Not equal to\", represented by \"x not equal to y\" by \" x != y \""
   ]
  },
  {
   "cell_type": "markdown",
   "metadata": {},
   "source": [
    "Question 6: How do you tell the difference between the equal to and assignment operators?Describe a condition and when you would use one.\n",
    "\n",
    "Answer: Equal operator checks if two variables are equal or not. It is represented by \"==\".\n",
    "Assignment operator assigns a value to a variable. It is represented by \"=\"."
   ]
  },
  {
   "cell_type": "markdown",
   "metadata": {},
   "source": [
    "Question 7: Identify the three blocks in this code:\n",
    "    ```python\n",
    "    spam == 0\n",
    "    if spam == 10:\n",
    "        print('eggs')\n",
    "    if spam > 5:\n",
    "        print('bacon')\n",
    "    else:\n",
    "        print('ham')\n",
    "    print('spam')\n",
    "    print('spam')\n",
    "    ```\n",
    "\n",
    "Answer: The three blocks in the above code are:\n",
    "1) if spam == 10:\n",
    "        print('eggs')\n",
    "2) if spam > 5:\n",
    "        print('bacon')\n",
    "3) else:    \n",
    "        print('ham')\n",
    "\n",
    "Basicall these are the usage of three comparison operators."
   ]
  },
  {
   "cell_type": "markdown",
   "metadata": {},
   "source": [
    "Question 8: Write code that prints Hello if 1 is stored in spam, prints Howdy if 2 is stored in spam, and prints Greetings! if anything else is stored in spam.\n",
    "\n",
    "Answer: \n",
    "```python\n",
    "spam = int(input(\"Enter the value of spam: \"))\n",
    "if spam == 1:\n",
    "    print(\"Hello\")\n",
    "elif spam == 2:\n",
    "    print(\"Howdy\")\n",
    "else:\n",
    "    print(\"Greetings!\")\n",
    "```"
   ]
  },
  {
   "cell_type": "markdown",
   "metadata": {},
   "source": [
    "Question 9: If your programme is stuck in an endless loop, what keys you’ll press?\n",
    "\n",
    "Answer: If the program is stuck in an endless loop, pressing Ctrl + C will stop the program."
   ]
  },
  {
   "cell_type": "markdown",
   "metadata": {},
   "source": [
    "Question 10: How can you tell the difference between ```break``` and ```continue```?\n",
    "\n",
    "Answer: THe ```break``` statement is used to exit from the loop while the ```continue``` statement is used to skip the current itration of the loop."
   ]
  },
  {
   "cell_type": "markdown",
   "metadata": {},
   "source": [
    "Question 11: In a for loop, what is the difference between range(10), range(0, 10), and range(0, 10, 1)?\n",
    "\n",
    "Answer: The ```range(10)``` function returns a list of numbers from 0 to 9. \n",
    "The ```range(0,10)``` function returns a list of numbers from 0 to 9. Here 0, the first argument is the starting number and 10, the second argument is the ending number.\n",
    "The ```range(0, 10, 1)``` function returns a list of numbers from 0 to 9. Here 0, the first argument is the starting number, 10, the second argument is the ending number and 1, the third argument is the iteration step size."
   ]
  },
  {
   "cell_type": "markdown",
   "metadata": {},
   "source": [
    "Question 12: Write a short program that prints the numbers 1 to 10 using a for loop. Then write an equivalent program that prints the numbers 1 to 10 using a while loop.\n",
    "\n",
    "Answer: printing 1 to 10 using for loop:\n",
    "```python\n",
    "for i in range(1,11):\n",
    "    print(i)\n",
    "```\n",
    "\n",
    "printing 1 to 10 using while loop:\n",
    "```python\n",
    "i = 1\n",
    "while i <= 10:\n",
    "    print(i)\n",
    "    i += 1\n",
    "```"
   ]
  },
  {
   "cell_type": "markdown",
   "metadata": {},
   "source": [
    "Question 13: If you had a function named bacon() inside a module named spam, how would you call it after importing spam?\n",
    "\n",
    "Answer: The function ```bacon()``` can be called after importing the module ```spam``` as follows:\n",
    "```python\n",
    "import spam\n",
    "spam.bacon()\n",
    "```\n",
    "This will call the function ```bacon()``` in the module ```spam```."
   ]
  }
 ],
 "metadata": {
  "kernelspec": {
   "display_name": "Python 3.10.7 64-bit",
   "language": "python",
   "name": "python3"
  },
  "language_info": {
   "codemirror_mode": {
    "name": "ipython",
    "version": 3
   },
   "file_extension": ".py",
   "mimetype": "text/x-python",
   "name": "python",
   "nbconvert_exporter": "python",
   "pygments_lexer": "ipython3",
   "version": "3.10.7"
  },
  "orig_nbformat": 4,
  "vscode": {
   "interpreter": {
    "hash": "e7370f93d1d0cde622a1f8e1c04877d8463912d04d973331ad4851f04de6915a"
   }
  }
 },
 "nbformat": 4,
 "nbformat_minor": 2
}
